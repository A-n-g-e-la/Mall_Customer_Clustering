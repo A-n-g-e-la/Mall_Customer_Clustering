{
  "nbformat": 4,
  "nbformat_minor": 0,
  "metadata": {
    "colab": {
      "provenance": [],
      "toc_visible": true,
      "authorship_tag": "ABX9TyNA6Yw4t1eK8scAOqrjDseV",
      "include_colab_link": true
    },
    "kernelspec": {
      "name": "python3",
      "display_name": "Python 3"
    },
    "language_info": {
      "name": "python"
    }
  },
  "cells": [
    {
      "cell_type": "markdown",
      "metadata": {
        "id": "view-in-github",
        "colab_type": "text"
      },
      "source": [
        "<a href=\"https://colab.research.google.com/github/A-n-g-e-la/Mall_Customer_Segmentation/blob/main/question_5.ipynb\" target=\"_parent\"><img src=\"https://colab.research.google.com/assets/colab-badge.svg\" alt=\"Open In Colab\"/></a>"
      ]
    },
    {
      "cell_type": "code",
      "execution_count": null,
      "metadata": {
        "id": "D84uW-yG76_p"
      },
      "outputs": [],
      "source": []
    },
    {
      "cell_type": "code",
      "source": [],
      "metadata": {
        "id": "LENosNqdCCmK"
      },
      "execution_count": null,
      "outputs": []
    },
    {
      "cell_type": "markdown",
      "source": [
        "Question 5: Customer Engagement Recommendations Using the clustering results from Question 3b, which grouped customers by Annual Income (k$) and Spending Score (1–100), we can identify different types of mall shoppers and propose tailored engagement strategies for each segment.\n",
        "\n",
        "Cluster 1: Low income, low spending — price-sensitive shoppers who visit occasionally. Cluster 2: Low income, high spending — loyal customers who often take advantage of promotions. Cluster 3: High income, low spending — potential high-value customers who are not highly engaged. Cluster 4: High income, high spending — premium shoppers who contribute the most to mall revenue. Cluster 5: Middle-income, moderate spending — average shoppers forming the largest segment.\n",
        "\n",
        "Recommended Engagement Strategies Cluster 1: Offer discounts, coupons, and affordable product bundles to encourage higher purchases.\n",
        "\n",
        "Cluster 2: Maintain loyalty through cashback offers, membership points, and regular sales notifications.\n",
        "\n",
        "Cluster 3: Send targeted invitations to exclusive events or premium brands to spark engagement.\n",
        "\n",
        "Cluster 4: Provide VIP services, early access to new collections, and personalized experiences.\n",
        "\n",
        "Cluster 5: Use seasonal promotions and personalized recommendations to retain steady spending.\n",
        "\n",
        "By applying these targeted strategies, the mall can enhance customer satisfaction, improve marketing efficiency, and boost overall profitability"
      ],
      "metadata": {
        "id": "2zuAf5azSu40"
      }
    }
  ]
}